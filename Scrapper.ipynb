{
 "cells": [
  {
   "cell_type": "code",
   "execution_count": 57,
   "metadata": {},
   "outputs": [],
   "source": [
    "import os\n",
    "import codecs\n",
    "from bs4 import BeautifulSoup\n",
    "import pandas as pd\n",
    "from tqdm import tqdm\n",
    "import re\n",
    "from scrapper_v2 import BOOKS"
   ]
  },
  {
   "cell_type": "code",
   "execution_count": 121,
   "metadata": {},
   "outputs": [],
   "source": [
    "def parse_htms(directory, lang):\n",
    "    \"\"\"\n",
    "        Parses the entire directory and returns a DataFrame of the verses.\n",
    "    \"\"\"\n",
    "    paths  = []\n",
    "    df = pd.DataFrame(columns=['id', lang])\n",
    "\n",
    "    for dirname, _, filenames in os.walk(directory):\n",
    "        for filename in filenames:\n",
    "            book_number = dirname.split('/')[-1]\n",
    "            try:\n",
    "                book_number = int(book_number)\n",
    "            except ValueError:\n",
    "                continue\n",
    "            if not filename.endswith('.htm'):\n",
    "                continue\n",
    "            pairs = (book_number, os.path.join(dirname, filename))\n",
    "            paths.append(pairs)\n",
    "\n",
    "    for book_number, path in tqdm(paths):\n",
    "        # Create ID\n",
    "        book_name = BOOKS[book_number - 1]\n",
    "        chapter = path.split('/')[-1].split('.')[0]\n",
    "        id = book_name + str(chapter)\n",
    "        soup = BeautifulSoup(codecs.open(path, 'r', encoding='utf-8', errors='ignore'), 'html.parser')\n",
    "        verses = soup.select('.textBody p')[0].get_text().strip()\n",
    "        verses = verses.replace('1 \\n', '1 ')\n",
    "        verses = verses.split('\\n')\n",
    "\n",
    "        for verse in verses:\n",
    "            content = verse.split(' ')\n",
    "            verse_number = content[0]\n",
    "            id_ = id + verse_number\n",
    "            verse_content = ' '.join(content[1:])\n",
    "            sentences = re.split('[.?]', verse_content)\n",
    "            \n",
    "            i = 1 # Sentence id\n",
    "            \n",
    "            for sentence in sentences:\n",
    "                if not sentence.isspace() and len(sentence) > 0:\n",
    "                    id_sentence = id_ + str(i)\n",
    "                    i += 1\n",
    "                    temp = pd.DataFrame([[id_sentence, sentence.strip()]],\n",
    "                                    columns=['id', lang])\n",
    "    #                 print(temp)\n",
    "                    df = df.append(temp, ignore_index=False)\n",
    "\n",
    "    return df"
   ]
  },
  {
   "cell_type": "code",
   "execution_count": 122,
   "metadata": {},
   "outputs": [
    {
     "name": "stderr",
     "output_type": "stream",
     "text": [
      "100%|██████████| 1189/1189 [02:39<00:00,  7.47it/s]\n"
     ]
    }
   ],
   "source": [
    "LUG = parse_htms('lug_new', 'luganda')"
   ]
  },
  {
   "cell_type": "code",
   "execution_count": 128,
   "metadata": {
    "scrolled": true
   },
   "outputs": [],
   "source": [
    "LUG = LUG.reset_index()"
   ]
  },
  {
   "cell_type": "code",
   "execution_count": 129,
   "metadata": {},
   "outputs": [
    {
     "data": {
      "text/html": [
       "<div>\n",
       "<style scoped>\n",
       "    .dataframe tbody tr th:only-of-type {\n",
       "        vertical-align: middle;\n",
       "    }\n",
       "\n",
       "    .dataframe tbody tr th {\n",
       "        vertical-align: top;\n",
       "    }\n",
       "\n",
       "    .dataframe thead th {\n",
       "        text-align: right;\n",
       "    }\n",
       "</style>\n",
       "<table border=\"1\" class=\"dataframe\">\n",
       "  <thead>\n",
       "    <tr style=\"text-align: right;\">\n",
       "      <th></th>\n",
       "      <th>index</th>\n",
       "      <th>id</th>\n",
       "      <th>luganda</th>\n",
       "    </tr>\n",
       "  </thead>\n",
       "  <tbody>\n",
       "    <tr>\n",
       "      <td>0</td>\n",
       "      <td>0</td>\n",
       "      <td>MRK911</td>\n",
       "      <td>N'abagamba nti Mazima mbagamba nti Ku bano aba...</td>\n",
       "    </tr>\n",
       "    <tr>\n",
       "      <td>1</td>\n",
       "      <td>0</td>\n",
       "      <td>MRK921</td>\n",
       "      <td>Awo ennaku omukaaga bwe zaayitawo Yesu n'atwal...</td>\n",
       "    </tr>\n",
       "    <tr>\n",
       "      <td>2</td>\n",
       "      <td>0</td>\n",
       "      <td>MRK931</td>\n",
       "      <td>Engoye ze ne zaakaayakana ne zitukula nnyo; so...</td>\n",
       "    </tr>\n",
       "    <tr>\n",
       "      <td>3</td>\n",
       "      <td>0</td>\n",
       "      <td>MRK941</td>\n",
       "      <td>Awo Eriya ne Musa ne babalabikira; era baali b...</td>\n",
       "    </tr>\n",
       "    <tr>\n",
       "      <td>4</td>\n",
       "      <td>0</td>\n",
       "      <td>MRK951</td>\n",
       "      <td>Peetero n'addamu, n'agamba Yesu nti Labbi, kye...</td>\n",
       "    </tr>\n",
       "    <tr>\n",
       "      <td>...</td>\n",
       "      <td>...</td>\n",
       "      <td>...</td>\n",
       "      <td>...</td>\n",
       "    </tr>\n",
       "    <tr>\n",
       "      <td>195</td>\n",
       "      <td>0</td>\n",
       "      <td>MRK14361</td>\n",
       "      <td>N'agamba nti Aba, Kitange, byonna biyinzika gy...</td>\n",
       "    </tr>\n",
       "    <tr>\n",
       "      <td>196</td>\n",
       "      <td>0</td>\n",
       "      <td>MRK14371</td>\n",
       "      <td>Awo n'ajja, n'abasanga nga beebase, n'agamba P...</td>\n",
       "    </tr>\n",
       "    <tr>\n",
       "      <td>197</td>\n",
       "      <td>0</td>\n",
       "      <td>MRK14372</td>\n",
       "      <td>tobadde na maanyi ag'okutunula n'essaawa emu eti</td>\n",
       "    </tr>\n",
       "    <tr>\n",
       "      <td>198</td>\n",
       "      <td>0</td>\n",
       "      <td>MRK14381</td>\n",
       "      <td>Mutunule, musabe, muleme okuyingira mu kukemeb...</td>\n",
       "    </tr>\n",
       "    <tr>\n",
       "      <td>199</td>\n",
       "      <td>0</td>\n",
       "      <td>MRK14391</td>\n",
       "      <td>Nate n'addayo, n'asaba, n'ayogera ebigambo bim...</td>\n",
       "    </tr>\n",
       "  </tbody>\n",
       "</table>\n",
       "<p>200 rows × 3 columns</p>\n",
       "</div>"
      ],
      "text/plain": [
       "     index        id                                            luganda\n",
       "0        0    MRK911  N'abagamba nti Mazima mbagamba nti Ku bano aba...\n",
       "1        0    MRK921  Awo ennaku omukaaga bwe zaayitawo Yesu n'atwal...\n",
       "2        0    MRK931  Engoye ze ne zaakaayakana ne zitukula nnyo; so...\n",
       "3        0    MRK941  Awo Eriya ne Musa ne babalabikira; era baali b...\n",
       "4        0    MRK951  Peetero n'addamu, n'agamba Yesu nti Labbi, kye...\n",
       "..     ...       ...                                                ...\n",
       "195      0  MRK14361  N'agamba nti Aba, Kitange, byonna biyinzika gy...\n",
       "196      0  MRK14371  Awo n'ajja, n'abasanga nga beebase, n'agamba P...\n",
       "197      0  MRK14372   tobadde na maanyi ag'okutunula n'essaawa emu eti\n",
       "198      0  MRK14381  Mutunule, musabe, muleme okuyingira mu kukemeb...\n",
       "199      0  MRK14391  Nate n'addayo, n'asaba, n'ayogera ebigambo bim...\n",
       "\n",
       "[200 rows x 3 columns]"
      ]
     },
     "execution_count": 129,
     "metadata": {},
     "output_type": "execute_result"
    }
   ],
   "source": [
    "LUG.head(200)"
   ]
  },
  {
   "cell_type": "code",
   "execution_count": 130,
   "metadata": {},
   "outputs": [
    {
     "name": "stderr",
     "output_type": "stream",
     "text": [
      "100%|██████████| 1189/1189 [02:35<00:00,  7.64it/s]\n"
     ]
    }
   ],
   "source": [
    "ENG = parse_htms('kj_new', 'english')"
   ]
  },
  {
   "cell_type": "code",
   "execution_count": 131,
   "metadata": {},
   "outputs": [
    {
     "data": {
      "text/plain": [
       "(34851, 2)"
      ]
     },
     "execution_count": 131,
     "metadata": {},
     "output_type": "execute_result"
    }
   ],
   "source": [
    "ENG.shape"
   ]
  },
  {
   "cell_type": "code",
   "execution_count": 132,
   "metadata": {},
   "outputs": [
    {
     "data": {
      "text/plain": [
       "(34796, 3)"
      ]
     },
     "execution_count": 132,
     "metadata": {},
     "output_type": "execute_result"
    }
   ],
   "source": [
    "LUG.shape"
   ]
  },
  {
   "cell_type": "code",
   "execution_count": 133,
   "metadata": {},
   "outputs": [
    {
     "data": {
      "text/plain": [
       "33570"
      ]
     },
     "execution_count": 133,
     "metadata": {},
     "output_type": "execute_result"
    }
   ],
   "source": [
    "ENG['id'].nunique()"
   ]
  },
  {
   "cell_type": "code",
   "execution_count": 134,
   "metadata": {
    "scrolled": true
   },
   "outputs": [
    {
     "data": {
      "text/plain": [
       "33514"
      ]
     },
     "execution_count": 134,
     "metadata": {},
     "output_type": "execute_result"
    }
   ],
   "source": [
    "LUG['id'].nunique()"
   ]
  },
  {
   "cell_type": "code",
   "execution_count": 135,
   "metadata": {
    "scrolled": false
   },
   "outputs": [
    {
     "data": {
      "text/html": [
       "<div>\n",
       "<style scoped>\n",
       "    .dataframe tbody tr th:only-of-type {\n",
       "        vertical-align: middle;\n",
       "    }\n",
       "\n",
       "    .dataframe tbody tr th {\n",
       "        vertical-align: top;\n",
       "    }\n",
       "\n",
       "    .dataframe thead th {\n",
       "        text-align: right;\n",
       "    }\n",
       "</style>\n",
       "<table border=\"1\" class=\"dataframe\">\n",
       "  <thead>\n",
       "    <tr style=\"text-align: right;\">\n",
       "      <th></th>\n",
       "      <th>index</th>\n",
       "      <th>id</th>\n",
       "      <th>luganda</th>\n",
       "    </tr>\n",
       "  </thead>\n",
       "  <tbody>\n",
       "    <tr>\n",
       "      <td>0</td>\n",
       "      <td>0</td>\n",
       "      <td>MRK911</td>\n",
       "      <td>N'abagamba nti Mazima mbagamba nti Ku bano aba...</td>\n",
       "    </tr>\n",
       "    <tr>\n",
       "      <td>1</td>\n",
       "      <td>0</td>\n",
       "      <td>MRK921</td>\n",
       "      <td>Awo ennaku omukaaga bwe zaayitawo Yesu n'atwal...</td>\n",
       "    </tr>\n",
       "    <tr>\n",
       "      <td>2</td>\n",
       "      <td>0</td>\n",
       "      <td>MRK931</td>\n",
       "      <td>Engoye ze ne zaakaayakana ne zitukula nnyo; so...</td>\n",
       "    </tr>\n",
       "    <tr>\n",
       "      <td>3</td>\n",
       "      <td>0</td>\n",
       "      <td>MRK941</td>\n",
       "      <td>Awo Eriya ne Musa ne babalabikira; era baali b...</td>\n",
       "    </tr>\n",
       "    <tr>\n",
       "      <td>4</td>\n",
       "      <td>0</td>\n",
       "      <td>MRK951</td>\n",
       "      <td>Peetero n'addamu, n'agamba Yesu nti Labbi, kye...</td>\n",
       "    </tr>\n",
       "    <tr>\n",
       "      <td>...</td>\n",
       "      <td>...</td>\n",
       "      <td>...</td>\n",
       "      <td>...</td>\n",
       "    </tr>\n",
       "    <tr>\n",
       "      <td>34791</td>\n",
       "      <td>0</td>\n",
       "      <td>2SA17252</td>\n",
       "      <td>Era Amasa yali mwana wa musajja erinnya lye Is...</td>\n",
       "    </tr>\n",
       "    <tr>\n",
       "      <td>34792</td>\n",
       "      <td>0</td>\n",
       "      <td>2SA17261</td>\n",
       "      <td>Awo Isiraeri ne Abusaalomu ne basiisira mu nsi...</td>\n",
       "    </tr>\n",
       "    <tr>\n",
       "      <td>34793</td>\n",
       "      <td>0</td>\n",
       "      <td>2SA17271</td>\n",
       "      <td>Awo olwatuuka Dawudi bwe yatuuka e Makanayimu,...</td>\n",
       "    </tr>\n",
       "    <tr>\n",
       "      <td>34794</td>\n",
       "      <td>0</td>\n",
       "      <td>2SA17281</td>\n",
       "      <td>ne baleeta ebitanda, n'ebibya, n'entamu, n'eŋŋ...</td>\n",
       "    </tr>\n",
       "    <tr>\n",
       "      <td>34795</td>\n",
       "      <td>0</td>\n",
       "      <td>2SA17291</td>\n",
       "      <td>n'omubisi gw'enjuki, n'omuzigo, n'endiga, n'am...</td>\n",
       "    </tr>\n",
       "  </tbody>\n",
       "</table>\n",
       "<p>34796 rows × 3 columns</p>\n",
       "</div>"
      ],
      "text/plain": [
       "       index        id                                            luganda\n",
       "0          0    MRK911  N'abagamba nti Mazima mbagamba nti Ku bano aba...\n",
       "1          0    MRK921  Awo ennaku omukaaga bwe zaayitawo Yesu n'atwal...\n",
       "2          0    MRK931  Engoye ze ne zaakaayakana ne zitukula nnyo; so...\n",
       "3          0    MRK941  Awo Eriya ne Musa ne babalabikira; era baali b...\n",
       "4          0    MRK951  Peetero n'addamu, n'agamba Yesu nti Labbi, kye...\n",
       "...      ...       ...                                                ...\n",
       "34791      0  2SA17252  Era Amasa yali mwana wa musajja erinnya lye Is...\n",
       "34792      0  2SA17261  Awo Isiraeri ne Abusaalomu ne basiisira mu nsi...\n",
       "34793      0  2SA17271  Awo olwatuuka Dawudi bwe yatuuka e Makanayimu,...\n",
       "34794      0  2SA17281  ne baleeta ebitanda, n'ebibya, n'entamu, n'eŋŋ...\n",
       "34795      0  2SA17291  n'omubisi gw'enjuki, n'omuzigo, n'endiga, n'am...\n",
       "\n",
       "[34796 rows x 3 columns]"
      ]
     },
     "execution_count": 135,
     "metadata": {},
     "output_type": "execute_result"
    }
   ],
   "source": [
    "LUG"
   ]
  },
  {
   "cell_type": "code",
   "execution_count": 136,
   "metadata": {},
   "outputs": [
    {
     "data": {
      "text/html": [
       "<div>\n",
       "<style scoped>\n",
       "    .dataframe tbody tr th:only-of-type {\n",
       "        vertical-align: middle;\n",
       "    }\n",
       "\n",
       "    .dataframe tbody tr th {\n",
       "        vertical-align: top;\n",
       "    }\n",
       "\n",
       "    .dataframe thead th {\n",
       "        text-align: right;\n",
       "    }\n",
       "</style>\n",
       "<table border=\"1\" class=\"dataframe\">\n",
       "  <thead>\n",
       "    <tr style=\"text-align: right;\">\n",
       "      <th></th>\n",
       "      <th>index</th>\n",
       "      <th>id</th>\n",
       "      <th>luganda</th>\n",
       "    </tr>\n",
       "  </thead>\n",
       "  <tbody>\n",
       "    <tr>\n",
       "      <td>0</td>\n",
       "      <td>0</td>\n",
       "      <td>MRK911</td>\n",
       "      <td>N'abagamba nti Mazima mbagamba nti Ku bano aba...</td>\n",
       "    </tr>\n",
       "    <tr>\n",
       "      <td>1</td>\n",
       "      <td>0</td>\n",
       "      <td>MRK921</td>\n",
       "      <td>Awo ennaku omukaaga bwe zaayitawo Yesu n'atwal...</td>\n",
       "    </tr>\n",
       "    <tr>\n",
       "      <td>2</td>\n",
       "      <td>0</td>\n",
       "      <td>MRK931</td>\n",
       "      <td>Engoye ze ne zaakaayakana ne zitukula nnyo; so...</td>\n",
       "    </tr>\n",
       "    <tr>\n",
       "      <td>3</td>\n",
       "      <td>0</td>\n",
       "      <td>MRK941</td>\n",
       "      <td>Awo Eriya ne Musa ne babalabikira; era baali b...</td>\n",
       "    </tr>\n",
       "    <tr>\n",
       "      <td>4</td>\n",
       "      <td>0</td>\n",
       "      <td>MRK951</td>\n",
       "      <td>Peetero n'addamu, n'agamba Yesu nti Labbi, kye...</td>\n",
       "    </tr>\n",
       "    <tr>\n",
       "      <td>...</td>\n",
       "      <td>...</td>\n",
       "      <td>...</td>\n",
       "      <td>...</td>\n",
       "    </tr>\n",
       "    <tr>\n",
       "      <td>34791</td>\n",
       "      <td>0</td>\n",
       "      <td>2SA17252</td>\n",
       "      <td>Era Amasa yali mwana wa musajja erinnya lye Is...</td>\n",
       "    </tr>\n",
       "    <tr>\n",
       "      <td>34792</td>\n",
       "      <td>0</td>\n",
       "      <td>2SA17261</td>\n",
       "      <td>Awo Isiraeri ne Abusaalomu ne basiisira mu nsi...</td>\n",
       "    </tr>\n",
       "    <tr>\n",
       "      <td>34793</td>\n",
       "      <td>0</td>\n",
       "      <td>2SA17271</td>\n",
       "      <td>Awo olwatuuka Dawudi bwe yatuuka e Makanayimu,...</td>\n",
       "    </tr>\n",
       "    <tr>\n",
       "      <td>34794</td>\n",
       "      <td>0</td>\n",
       "      <td>2SA17281</td>\n",
       "      <td>ne baleeta ebitanda, n'ebibya, n'entamu, n'eŋŋ...</td>\n",
       "    </tr>\n",
       "    <tr>\n",
       "      <td>34795</td>\n",
       "      <td>0</td>\n",
       "      <td>2SA17291</td>\n",
       "      <td>n'omubisi gw'enjuki, n'omuzigo, n'endiga, n'am...</td>\n",
       "    </tr>\n",
       "  </tbody>\n",
       "</table>\n",
       "<p>33514 rows × 3 columns</p>\n",
       "</div>"
      ],
      "text/plain": [
       "       index        id                                            luganda\n",
       "0          0    MRK911  N'abagamba nti Mazima mbagamba nti Ku bano aba...\n",
       "1          0    MRK921  Awo ennaku omukaaga bwe zaayitawo Yesu n'atwal...\n",
       "2          0    MRK931  Engoye ze ne zaakaayakana ne zitukula nnyo; so...\n",
       "3          0    MRK941  Awo Eriya ne Musa ne babalabikira; era baali b...\n",
       "4          0    MRK951  Peetero n'addamu, n'agamba Yesu nti Labbi, kye...\n",
       "...      ...       ...                                                ...\n",
       "34791      0  2SA17252  Era Amasa yali mwana wa musajja erinnya lye Is...\n",
       "34792      0  2SA17261  Awo Isiraeri ne Abusaalomu ne basiisira mu nsi...\n",
       "34793      0  2SA17271  Awo olwatuuka Dawudi bwe yatuuka e Makanayimu,...\n",
       "34794      0  2SA17281  ne baleeta ebitanda, n'ebibya, n'entamu, n'eŋŋ...\n",
       "34795      0  2SA17291  n'omubisi gw'enjuki, n'omuzigo, n'endiga, n'am...\n",
       "\n",
       "[33514 rows x 3 columns]"
      ]
     },
     "execution_count": 136,
     "metadata": {},
     "output_type": "execute_result"
    }
   ],
   "source": [
    "lug_unique = LUG.drop_duplicates(subset='id')\n",
    "lug_unique"
   ]
  },
  {
   "cell_type": "code",
   "execution_count": 137,
   "metadata": {
    "scrolled": false
   },
   "outputs": [
    {
     "data": {
      "text/html": [
       "<div>\n",
       "<style scoped>\n",
       "    .dataframe tbody tr th:only-of-type {\n",
       "        vertical-align: middle;\n",
       "    }\n",
       "\n",
       "    .dataframe tbody tr th {\n",
       "        vertical-align: top;\n",
       "    }\n",
       "\n",
       "    .dataframe thead th {\n",
       "        text-align: right;\n",
       "    }\n",
       "</style>\n",
       "<table border=\"1\" class=\"dataframe\">\n",
       "  <thead>\n",
       "    <tr style=\"text-align: right;\">\n",
       "      <th></th>\n",
       "      <th>id</th>\n",
       "      <th>english</th>\n",
       "    </tr>\n",
       "  </thead>\n",
       "  <tbody>\n",
       "    <tr>\n",
       "      <td>0</td>\n",
       "      <td>MRK911</td>\n",
       "      <td>And he said unto them, Verily I say unto you, ...</td>\n",
       "    </tr>\n",
       "    <tr>\n",
       "      <td>0</td>\n",
       "      <td>MRK921</td>\n",
       "      <td>And after six days Jesus taketh with him Peter...</td>\n",
       "    </tr>\n",
       "    <tr>\n",
       "      <td>0</td>\n",
       "      <td>MRK931</td>\n",
       "      <td>And his raiment became shining, exceeding whit...</td>\n",
       "    </tr>\n",
       "    <tr>\n",
       "      <td>0</td>\n",
       "      <td>MRK941</td>\n",
       "      <td>And there appeared unto them Elias with Moses:...</td>\n",
       "    </tr>\n",
       "    <tr>\n",
       "      <td>0</td>\n",
       "      <td>MRK951</td>\n",
       "      <td>And Peter answered and said to Jesus, Master, ...</td>\n",
       "    </tr>\n",
       "    <tr>\n",
       "      <td>...</td>\n",
       "      <td>...</td>\n",
       "      <td>...</td>\n",
       "    </tr>\n",
       "    <tr>\n",
       "      <td>0</td>\n",
       "      <td>2SA17251</td>\n",
       "      <td>And Absalom made Amasa captain of the host ins...</td>\n",
       "    </tr>\n",
       "    <tr>\n",
       "      <td>0</td>\n",
       "      <td>2SA17261</td>\n",
       "      <td>So Israel and Absalom pitched in the land of G...</td>\n",
       "    </tr>\n",
       "    <tr>\n",
       "      <td>0</td>\n",
       "      <td>2SA17271</td>\n",
       "      <td>And it came to pass, when David was come to Ma...</td>\n",
       "    </tr>\n",
       "    <tr>\n",
       "      <td>0</td>\n",
       "      <td>2SA17281</td>\n",
       "      <td>Brought beds, and basons, and earthen vessels,...</td>\n",
       "    </tr>\n",
       "    <tr>\n",
       "      <td>0</td>\n",
       "      <td>2SA17291</td>\n",
       "      <td>And honey, and butter, and sheep, and cheese o...</td>\n",
       "    </tr>\n",
       "  </tbody>\n",
       "</table>\n",
       "<p>33570 rows × 2 columns</p>\n",
       "</div>"
      ],
      "text/plain": [
       "          id                                            english\n",
       "0     MRK911  And he said unto them, Verily I say unto you, ...\n",
       "0     MRK921  And after six days Jesus taketh with him Peter...\n",
       "0     MRK931  And his raiment became shining, exceeding whit...\n",
       "0     MRK941  And there appeared unto them Elias with Moses:...\n",
       "0     MRK951  And Peter answered and said to Jesus, Master, ...\n",
       "..       ...                                                ...\n",
       "0   2SA17251  And Absalom made Amasa captain of the host ins...\n",
       "0   2SA17261  So Israel and Absalom pitched in the land of G...\n",
       "0   2SA17271  And it came to pass, when David was come to Ma...\n",
       "0   2SA17281  Brought beds, and basons, and earthen vessels,...\n",
       "0   2SA17291  And honey, and butter, and sheep, and cheese o...\n",
       "\n",
       "[33570 rows x 2 columns]"
      ]
     },
     "execution_count": 137,
     "metadata": {},
     "output_type": "execute_result"
    }
   ],
   "source": [
    "eng_unique = ENG.drop_duplicates(subset='id')\n",
    "eng_unique"
   ]
  },
  {
   "cell_type": "code",
   "execution_count": 138,
   "metadata": {},
   "outputs": [],
   "source": [
    "# Do an inner join to keep the instersection.\n",
    "corpus = pd.merge(eng_unique[['id', 'english']], \n",
    "                   lug_unique[['id', 'luganda']], \n",
    "                   how='inner', \n",
    "                   left_on='id', \n",
    "                   right_on='id')"
   ]
  },
  {
   "cell_type": "code",
   "execution_count": 139,
   "metadata": {},
   "outputs": [
    {
     "data": {
      "text/html": [
       "<div>\n",
       "<style scoped>\n",
       "    .dataframe tbody tr th:only-of-type {\n",
       "        vertical-align: middle;\n",
       "    }\n",
       "\n",
       "    .dataframe tbody tr th {\n",
       "        vertical-align: top;\n",
       "    }\n",
       "\n",
       "    .dataframe thead th {\n",
       "        text-align: right;\n",
       "    }\n",
       "</style>\n",
       "<table border=\"1\" class=\"dataframe\">\n",
       "  <thead>\n",
       "    <tr style=\"text-align: right;\">\n",
       "      <th></th>\n",
       "      <th>id</th>\n",
       "      <th>english</th>\n",
       "      <th>luganda</th>\n",
       "    </tr>\n",
       "  </thead>\n",
       "  <tbody>\n",
       "    <tr>\n",
       "      <td>0</td>\n",
       "      <td>MRK911</td>\n",
       "      <td>And he said unto them, Verily I say unto you, ...</td>\n",
       "      <td>N'abagamba nti Mazima mbagamba nti Ku bano aba...</td>\n",
       "    </tr>\n",
       "    <tr>\n",
       "      <td>1</td>\n",
       "      <td>MRK921</td>\n",
       "      <td>And after six days Jesus taketh with him Peter...</td>\n",
       "      <td>Awo ennaku omukaaga bwe zaayitawo Yesu n'atwal...</td>\n",
       "    </tr>\n",
       "    <tr>\n",
       "      <td>2</td>\n",
       "      <td>MRK931</td>\n",
       "      <td>And his raiment became shining, exceeding whit...</td>\n",
       "      <td>Engoye ze ne zaakaayakana ne zitukula nnyo; so...</td>\n",
       "    </tr>\n",
       "    <tr>\n",
       "      <td>3</td>\n",
       "      <td>MRK941</td>\n",
       "      <td>And there appeared unto them Elias with Moses:...</td>\n",
       "      <td>Awo Eriya ne Musa ne babalabikira; era baali b...</td>\n",
       "    </tr>\n",
       "    <tr>\n",
       "      <td>4</td>\n",
       "      <td>MRK951</td>\n",
       "      <td>And Peter answered and said to Jesus, Master, ...</td>\n",
       "      <td>Peetero n'addamu, n'agamba Yesu nti Labbi, kye...</td>\n",
       "    </tr>\n",
       "    <tr>\n",
       "      <td>...</td>\n",
       "      <td>...</td>\n",
       "      <td>...</td>\n",
       "      <td>...</td>\n",
       "    </tr>\n",
       "    <tr>\n",
       "      <td>32996</td>\n",
       "      <td>2SA17251</td>\n",
       "      <td>And Absalom made Amasa captain of the host ins...</td>\n",
       "      <td>Abusaalomu n'afuula Amasa omukulu w'eggye mu k...</td>\n",
       "    </tr>\n",
       "    <tr>\n",
       "      <td>32997</td>\n",
       "      <td>2SA17261</td>\n",
       "      <td>So Israel and Absalom pitched in the land of G...</td>\n",
       "      <td>Awo Isiraeri ne Abusaalomu ne basiisira mu nsi...</td>\n",
       "    </tr>\n",
       "    <tr>\n",
       "      <td>32998</td>\n",
       "      <td>2SA17271</td>\n",
       "      <td>And it came to pass, when David was come to Ma...</td>\n",
       "      <td>Awo olwatuuka Dawudi bwe yatuuka e Makanayimu,...</td>\n",
       "    </tr>\n",
       "    <tr>\n",
       "      <td>32999</td>\n",
       "      <td>2SA17281</td>\n",
       "      <td>Brought beds, and basons, and earthen vessels,...</td>\n",
       "      <td>ne baleeta ebitanda, n'ebibya, n'entamu, n'eŋŋ...</td>\n",
       "    </tr>\n",
       "    <tr>\n",
       "      <td>33000</td>\n",
       "      <td>2SA17291</td>\n",
       "      <td>And honey, and butter, and sheep, and cheese o...</td>\n",
       "      <td>n'omubisi gw'enjuki, n'omuzigo, n'endiga, n'am...</td>\n",
       "    </tr>\n",
       "  </tbody>\n",
       "</table>\n",
       "<p>33001 rows × 3 columns</p>\n",
       "</div>"
      ],
      "text/plain": [
       "             id                                            english  \\\n",
       "0        MRK911  And he said unto them, Verily I say unto you, ...   \n",
       "1        MRK921  And after six days Jesus taketh with him Peter...   \n",
       "2        MRK931  And his raiment became shining, exceeding whit...   \n",
       "3        MRK941  And there appeared unto them Elias with Moses:...   \n",
       "4        MRK951  And Peter answered and said to Jesus, Master, ...   \n",
       "...         ...                                                ...   \n",
       "32996  2SA17251  And Absalom made Amasa captain of the host ins...   \n",
       "32997  2SA17261  So Israel and Absalom pitched in the land of G...   \n",
       "32998  2SA17271  And it came to pass, when David was come to Ma...   \n",
       "32999  2SA17281  Brought beds, and basons, and earthen vessels,...   \n",
       "33000  2SA17291  And honey, and butter, and sheep, and cheese o...   \n",
       "\n",
       "                                                 luganda  \n",
       "0      N'abagamba nti Mazima mbagamba nti Ku bano aba...  \n",
       "1      Awo ennaku omukaaga bwe zaayitawo Yesu n'atwal...  \n",
       "2      Engoye ze ne zaakaayakana ne zitukula nnyo; so...  \n",
       "3      Awo Eriya ne Musa ne babalabikira; era baali b...  \n",
       "4      Peetero n'addamu, n'agamba Yesu nti Labbi, kye...  \n",
       "...                                                  ...  \n",
       "32996  Abusaalomu n'afuula Amasa omukulu w'eggye mu k...  \n",
       "32997  Awo Isiraeri ne Abusaalomu ne basiisira mu nsi...  \n",
       "32998  Awo olwatuuka Dawudi bwe yatuuka e Makanayimu,...  \n",
       "32999  ne baleeta ebitanda, n'ebibya, n'entamu, n'eŋŋ...  \n",
       "33000  n'omubisi gw'enjuki, n'omuzigo, n'endiga, n'am...  \n",
       "\n",
       "[33001 rows x 3 columns]"
      ]
     },
     "execution_count": 139,
     "metadata": {},
     "output_type": "execute_result"
    }
   ],
   "source": [
    "corpus"
   ]
  },
  {
   "cell_type": "code",
   "execution_count": 140,
   "metadata": {},
   "outputs": [],
   "source": [
    "corpus.to_csv('corpus.csv', index=False)"
   ]
  },
  {
   "cell_type": "code",
   "execution_count": 141,
   "metadata": {},
   "outputs": [
    {
     "data": {
      "text/html": [
       "<div>\n",
       "<style scoped>\n",
       "    .dataframe tbody tr th:only-of-type {\n",
       "        vertical-align: middle;\n",
       "    }\n",
       "\n",
       "    .dataframe tbody tr th {\n",
       "        vertical-align: top;\n",
       "    }\n",
       "\n",
       "    .dataframe thead th {\n",
       "        text-align: right;\n",
       "    }\n",
       "</style>\n",
       "<table border=\"1\" class=\"dataframe\">\n",
       "  <thead>\n",
       "    <tr style=\"text-align: right;\">\n",
       "      <th></th>\n",
       "      <th>id</th>\n",
       "      <th>english</th>\n",
       "      <th>luganda</th>\n",
       "    </tr>\n",
       "  </thead>\n",
       "  <tbody>\n",
       "    <tr>\n",
       "      <td>0</td>\n",
       "      <td>MRK911</td>\n",
       "      <td>And he said unto them, Verily I say unto you, ...</td>\n",
       "      <td>N'abagamba nti Mazima mbagamba nti Ku bano aba...</td>\n",
       "    </tr>\n",
       "    <tr>\n",
       "      <td>1</td>\n",
       "      <td>MRK921</td>\n",
       "      <td>And after six days Jesus taketh with him Peter...</td>\n",
       "      <td>Awo ennaku omukaaga bwe zaayitawo Yesu n'atwal...</td>\n",
       "    </tr>\n",
       "    <tr>\n",
       "      <td>2</td>\n",
       "      <td>MRK931</td>\n",
       "      <td>And his raiment became shining, exceeding whit...</td>\n",
       "      <td>Engoye ze ne zaakaayakana ne zitukula nnyo; so...</td>\n",
       "    </tr>\n",
       "    <tr>\n",
       "      <td>3</td>\n",
       "      <td>MRK941</td>\n",
       "      <td>And there appeared unto them Elias with Moses:...</td>\n",
       "      <td>Awo Eriya ne Musa ne babalabikira; era baali b...</td>\n",
       "    </tr>\n",
       "    <tr>\n",
       "      <td>4</td>\n",
       "      <td>MRK951</td>\n",
       "      <td>And Peter answered and said to Jesus, Master, ...</td>\n",
       "      <td>Peetero n'addamu, n'agamba Yesu nti Labbi, kye...</td>\n",
       "    </tr>\n",
       "  </tbody>\n",
       "</table>\n",
       "</div>"
      ],
      "text/plain": [
       "       id                                            english  \\\n",
       "0  MRK911  And he said unto them, Verily I say unto you, ...   \n",
       "1  MRK921  And after six days Jesus taketh with him Peter...   \n",
       "2  MRK931  And his raiment became shining, exceeding whit...   \n",
       "3  MRK941  And there appeared unto them Elias with Moses:...   \n",
       "4  MRK951  And Peter answered and said to Jesus, Master, ...   \n",
       "\n",
       "                                             luganda  \n",
       "0  N'abagamba nti Mazima mbagamba nti Ku bano aba...  \n",
       "1  Awo ennaku omukaaga bwe zaayitawo Yesu n'atwal...  \n",
       "2  Engoye ze ne zaakaayakana ne zitukula nnyo; so...  \n",
       "3  Awo Eriya ne Musa ne babalabikira; era baali b...  \n",
       "4  Peetero n'addamu, n'agamba Yesu nti Labbi, kye...  "
      ]
     },
     "execution_count": 141,
     "metadata": {},
     "output_type": "execute_result"
    }
   ],
   "source": [
    "corpus.head()"
   ]
  },
  {
   "cell_type": "code",
   "execution_count": 142,
   "metadata": {},
   "outputs": [
    {
     "data": {
      "text/plain": [
       "(33001, 3)"
      ]
     },
     "execution_count": 142,
     "metadata": {},
     "output_type": "execute_result"
    }
   ],
   "source": [
    "corpus.shape"
   ]
  },
  {
   "cell_type": "code",
   "execution_count": null,
   "metadata": {},
   "outputs": [],
   "source": []
  }
 ],
 "metadata": {
  "kernelspec": {
   "display_name": "Python 3",
   "language": "python",
   "name": "python3"
  },
  "language_info": {
   "codemirror_mode": {
    "name": "ipython",
    "version": 3
   },
   "file_extension": ".py",
   "mimetype": "text/x-python",
   "name": "python",
   "nbconvert_exporter": "python",
   "pygments_lexer": "ipython3",
   "version": "3.7.4"
  }
 },
 "nbformat": 4,
 "nbformat_minor": 2
}
